{
  "nbformat": 4,
  "nbformat_minor": 0,
  "metadata": {
    "colab": {
      "provenance": []
    },
    "kernelspec": {
      "name": "python3",
      "display_name": "Python 3"
    },
    "language_info": {
      "name": "python"
    }
  },
  "cells": [
    {
      "cell_type": "code",
      "source": [
        "pip install pgmpy"
      ],
      "metadata": {
        "colab": {
          "base_uri": "https://localhost:8080/"
        },
        "id": "yUd7B_cITsRl",
        "outputId": "7cb8e919-df84-4322-9575-7553b9be59b7"
      },
      "execution_count": null,
      "outputs": [
        {
          "output_type": "stream",
          "name": "stdout",
          "text": [
            "Collecting pgmpy\n",
            "  Downloading pgmpy-0.1.24-py3-none-any.whl (2.0 MB)\n",
            "\u001b[2K     \u001b[90m━━━━━━━━━━━━━━━━━━━━━━━━━━━━━━━━━━━━━━━━\u001b[0m \u001b[32m2.0/2.0 MB\u001b[0m \u001b[31m11.6 MB/s\u001b[0m eta \u001b[36m0:00:00\u001b[0m\n",
            "\u001b[?25hRequirement already satisfied: networkx in /usr/local/lib/python3.10/dist-packages (from pgmpy) (3.2)\n",
            "Requirement already satisfied: numpy in /usr/local/lib/python3.10/dist-packages (from pgmpy) (1.23.5)\n",
            "Requirement already satisfied: scipy in /usr/local/lib/python3.10/dist-packages (from pgmpy) (1.11.3)\n",
            "Requirement already satisfied: scikit-learn in /usr/local/lib/python3.10/dist-packages (from pgmpy) (1.2.2)\n",
            "Requirement already satisfied: pandas in /usr/local/lib/python3.10/dist-packages (from pgmpy) (1.5.3)\n",
            "Requirement already satisfied: pyparsing in /usr/local/lib/python3.10/dist-packages (from pgmpy) (3.1.1)\n",
            "Requirement already satisfied: torch in /usr/local/lib/python3.10/dist-packages (from pgmpy) (2.1.0+cu118)\n",
            "Requirement already satisfied: statsmodels in /usr/local/lib/python3.10/dist-packages (from pgmpy) (0.14.0)\n",
            "Requirement already satisfied: tqdm in /usr/local/lib/python3.10/dist-packages (from pgmpy) (4.66.1)\n",
            "Requirement already satisfied: joblib in /usr/local/lib/python3.10/dist-packages (from pgmpy) (1.3.2)\n",
            "Requirement already satisfied: opt-einsum in /usr/local/lib/python3.10/dist-packages (from pgmpy) (3.3.0)\n",
            "Requirement already satisfied: python-dateutil>=2.8.1 in /usr/local/lib/python3.10/dist-packages (from pandas->pgmpy) (2.8.2)\n",
            "Requirement already satisfied: pytz>=2020.1 in /usr/local/lib/python3.10/dist-packages (from pandas->pgmpy) (2023.3.post1)\n",
            "Requirement already satisfied: threadpoolctl>=2.0.0 in /usr/local/lib/python3.10/dist-packages (from scikit-learn->pgmpy) (3.2.0)\n",
            "Requirement already satisfied: patsy>=0.5.2 in /usr/local/lib/python3.10/dist-packages (from statsmodels->pgmpy) (0.5.3)\n",
            "Requirement already satisfied: packaging>=21.3 in /usr/local/lib/python3.10/dist-packages (from statsmodels->pgmpy) (23.2)\n",
            "Requirement already satisfied: filelock in /usr/local/lib/python3.10/dist-packages (from torch->pgmpy) (3.12.4)\n",
            "Requirement already satisfied: typing-extensions in /usr/local/lib/python3.10/dist-packages (from torch->pgmpy) (4.5.0)\n",
            "Requirement already satisfied: sympy in /usr/local/lib/python3.10/dist-packages (from torch->pgmpy) (1.12)\n",
            "Requirement already satisfied: jinja2 in /usr/local/lib/python3.10/dist-packages (from torch->pgmpy) (3.1.2)\n",
            "Requirement already satisfied: fsspec in /usr/local/lib/python3.10/dist-packages (from torch->pgmpy) (2023.6.0)\n",
            "Requirement already satisfied: triton==2.1.0 in /usr/local/lib/python3.10/dist-packages (from torch->pgmpy) (2.1.0)\n",
            "Requirement already satisfied: six in /usr/local/lib/python3.10/dist-packages (from patsy>=0.5.2->statsmodels->pgmpy) (1.16.0)\n",
            "Requirement already satisfied: MarkupSafe>=2.0 in /usr/local/lib/python3.10/dist-packages (from jinja2->torch->pgmpy) (2.1.3)\n",
            "Requirement already satisfied: mpmath>=0.19 in /usr/local/lib/python3.10/dist-packages (from sympy->torch->pgmpy) (1.3.0)\n",
            "Installing collected packages: pgmpy\n",
            "Successfully installed pgmpy-0.1.24\n"
          ]
        }
      ]
    },
    {
      "cell_type": "code",
      "source": [],
      "metadata": {
        "id": "1wEFPHGaYVFr"
      },
      "execution_count": null,
      "outputs": []
    },
    {
      "cell_type": "code",
      "execution_count": null,
      "metadata": {
        "colab": {
          "base_uri": "https://localhost:8080/",
          "height": 367
        },
        "id": "HmeiP0yqS1ry",
        "outputId": "bd372109-5d12-4101-d081-8e1a3457241a"
      },
      "outputs": [
        {
          "output_type": "error",
          "ename": "ValueError",
          "evalue": "ignored",
          "traceback": [
            "\u001b[0;31m---------------------------------------------------------------------------\u001b[0m",
            "\u001b[0;31mValueError\u001b[0m                                Traceback (most recent call last)",
            "\u001b[0;32m<ipython-input-5-1d33437e9cd2>\u001b[0m in \u001b[0;36m<cell line: 14>\u001b[0;34m()\u001b[0m\n\u001b[1;32m     12\u001b[0m \u001b[0;34m\u001b[0m\u001b[0m\n\u001b[1;32m     13\u001b[0m \u001b[0;31m# Calculate the CPD for Pressure Sensor 1 (PS1)\u001b[0m\u001b[0;34m\u001b[0m\u001b[0;34m\u001b[0m\u001b[0m\n\u001b[0;32m---> 14\u001b[0;31m cpd_ps1 = TabularCPD(variable='PS1', variable_card=3, values=[data['pressure sensor 1'].value_counts(normalize=True).sort_index().tolist()],\n\u001b[0m\u001b[1;32m     15\u001b[0m                      state_names={'PS1': sorted(data['pressure sensor 1'].unique())}).values\n\u001b[1;32m     16\u001b[0m \u001b[0;34m\u001b[0m\u001b[0m\n",
            "\u001b[0;32m/usr/local/lib/python3.10/dist-packages/pgmpy/factors/discrete/CPD.py\u001b[0m in \u001b[0;36m__init__\u001b[0;34m(self, variable, variable_card, values, evidence, evidence_card, state_names)\u001b[0m\n\u001b[1;32m    140\u001b[0m             \u001b[0mexpected_cpd_shape\u001b[0m \u001b[0;34m=\u001b[0m \u001b[0;34m(\u001b[0m\u001b[0mvariable_card\u001b[0m\u001b[0;34m,\u001b[0m \u001b[0mnp\u001b[0m\u001b[0;34m.\u001b[0m\u001b[0mprod\u001b[0m\u001b[0;34m(\u001b[0m\u001b[0mevidence_card\u001b[0m\u001b[0;34m)\u001b[0m\u001b[0;34m)\u001b[0m\u001b[0;34m\u001b[0m\u001b[0;34m\u001b[0m\u001b[0m\n\u001b[1;32m    141\u001b[0m         \u001b[0;32mif\u001b[0m \u001b[0mvalues\u001b[0m\u001b[0;34m.\u001b[0m\u001b[0mshape\u001b[0m \u001b[0;34m!=\u001b[0m \u001b[0mexpected_cpd_shape\u001b[0m\u001b[0;34m:\u001b[0m\u001b[0;34m\u001b[0m\u001b[0;34m\u001b[0m\u001b[0m\n\u001b[0;32m--> 142\u001b[0;31m             raise ValueError(\n\u001b[0m\u001b[1;32m    143\u001b[0m                 \u001b[0;34mf\"values must be of shape {expected_cpd_shape}. Got shape: {values.shape}\"\u001b[0m\u001b[0;34m\u001b[0m\u001b[0;34m\u001b[0m\u001b[0m\n\u001b[1;32m    144\u001b[0m             )\n",
            "\u001b[0;31mValueError\u001b[0m: values must be of shape (3, 1). Got shape: (1, 1963)"
          ]
        }
      ],
      "source": [
        "import pandas as pd\n",
        "from pgmpy.models import BayesianNetwork\n",
        "from pgmpy.factors.discrete import TabularCPD\n",
        "from pgmpy.inference import VariableElimination\n",
        "\n",
        "# Load your dataset from a CSV file\n",
        "# Replace 'your_dataset.csv' with the actual path to your dataset file\n",
        "data = pd.read_csv('pipe leak-dataset.csv')\n",
        "\n",
        "# Define the Bayesian network structure\n",
        "model = BayesianNetwork([('PS1', 'Leak'), ('PS2', 'Leak')])\n",
        "\n",
        "# Calculate the CPD for Pressure Sensor 1 (PS1)\n",
        "cpd_ps1 = TabularCPD(variable='PS1', variable_card=3, values=[data['pressure sensor 1'].value_counts(normalize=True).sort_index().tolist()],\n",
        "                     state_names={'PS1': sorted(data['pressure sensor 1'].unique())}).values\n",
        "\n",
        "# Calculate the CPD for Pressure Sensor 2 (PS2)\n",
        "cpd_ps2 = TabularCPD(variable='PS2', variable_card=3, values=[data['pressure sensor 2'].value_counts(normalize=True).sort_index().tolist()],\n",
        "                     state_names={'PS2': sorted(data['pressure sensor 2'].unique())}).values\n",
        "\n",
        "# Calculate the CPD for Pipe Leak (Leak) given PS1 and PS2\n",
        "cpd_leak = TabularCPD(variable='Leak', variable_card=2,\n",
        "                      values=[data.groupby(['pressure sensor 1', 'pressure sensor 2'])['Label'].value_counts(normalize=True).sort_index().tolist()],\n",
        "                      evidence=['PS1', 'PS2'], evidence_card=[3, 3],\n",
        "                      state_names={'Leak': sorted(data['Label'].unique()),\n",
        "                                   'PS1': sorted(data['pressure sensor 1'].unique()),\n",
        "                                   'PS2': sorted(data['pressure sensor 2'].unique())})\n",
        "\n",
        "# Add CPDs to the model\n",
        "model.add_cpds(cpd_ps1, cpd_ps2, cpd_leak)\n",
        "\n",
        "# Verify the model\n",
        "assert model.check_model()\n",
        "\n",
        "# Perform variable elimination for inference\n",
        "inference = VariableElimination(model)\n",
        "\n",
        "# Query the probability of Pipe Leak given specific sensor readings\n",
        "result = inference.query(variables=['Leak'], evidence={'PS1': 'Low', 'PS2': 'Normal'})\n",
        "print(result)\n",
        "\n",
        "# Print the marginal probability of Pipe Leak\n",
        "print(result.values[0])\n"
      ]
    },
    {
      "cell_type": "code",
      "source": [
        "import pandas as pd\n",
        "from pgmpy.models import BayesianNetwork\n",
        "from pgmpy.factors.discrete import TabularCPD\n",
        "from pgmpy.inference import VariableElimination\n",
        "\n",
        "# Load your dataset from a CSV file\n",
        "# Replace 'your_dataset.csv' with the actual path to your dataset file\n",
        "data = pd.read_csv('pipe leak-dataset.csv')\n",
        "\n",
        "# Define the Bayesian network structure\n",
        "model = BayesianNetwork([('PS1', 'Leak'), ('PS2', 'Leak')])\n",
        "\n",
        "# Calculate the CPD for Pressure Sensor 1 (PS1)\n",
        "unique_ps1_values = sorted(data['PS1'].unique())\n",
        "cpd_ps1 = TabularCPD(variable='PS1', variable_card=3, values=[[0.0], [0.0], [0.0]],\n",
        "                     state_names={'PS1': unique_ps1_values})\n",
        "\n",
        "for value in unique_ps1_values:\n",
        "    count = len(data[data['PS1'] == value])\n",
        "    cpd_ps1.values[unique_ps1_values.index(value), 0] = count / len(data)\n",
        "\n",
        "# Calculate the CPD for Pressure Sensor 2 (PS2)\n",
        "unique_ps2_values = sorted(data['PS2'].unique())\n",
        "cpd_ps2 = TabularCPD(variable='PS2', variable_card=3, values=[[0.0], [0.0], [0.0]],\n",
        "                     state_names={'PS2': unique_ps2_values})\n",
        "\n",
        "for value in unique_ps2_values:\n",
        "    count = len(data[data['PS2'] == value])\n",
        "    cpd_ps2.values[unique_ps2_values.index(value), 0] = count / len(data)\n",
        "\n",
        "# Calculate the CPD for Pipe Leak (Leak) given PS1 and PS2\n",
        "# This example assumes that Leak is binary (0 or 1)\n",
        "cpd_leak = TabularCPD(variable='Leak', variable_card=2,\n",
        "                      values=[data.groupby(['PS1', 'PS2'])['Leak'].value_counts(normalize=True).sort_index().tolist()],\n",
        "                      evidence=['PS1', 'PS2'], evidence_card=[3, 3],\n",
        "                      state_names={'Leak': [0, 1],\n",
        "                                   'PS1': sorted(data['PS1'].unique()),\n",
        "                                   'PS2': sorted(data['PS2'].unique())}).values\n",
        "\n",
        "# Add CPDs to the model\n",
        "model.add_cpds(cpd_ps1, cpd_ps2, cpd_leak)\n",
        "\n",
        "# Verify the model\n",
        "assert model.check_model()\n",
        "\n",
        "# Perform variable elimination for inference\n",
        "inference = VariableElimination(model)\n",
        "\n",
        "# Query the probability of Pipe Leak given specific sensor readings\n",
        "result = inference.query(variables=['Leak'], evidence={'PS1': 'Low', 'PS2': 'Normal'})\n",
        "print(result)\n",
        "\n",
        "# Print the marginal probability of Pipe Leak\n",
        "print(result.values[0])\n"
      ],
      "metadata": {
        "colab": {
          "base_uri": "https://localhost:8080/",
          "height": 245
        },
        "id": "HC8XgZKDUw2j",
        "outputId": "b4b444ca-b1a4-4e37-956f-5ca321f62134"
      },
      "execution_count": null,
      "outputs": [
        {
          "output_type": "error",
          "ename": "IndexError",
          "evalue": "ignored",
          "traceback": [
            "\u001b[0;31m---------------------------------------------------------------------------\u001b[0m",
            "\u001b[0;31mIndexError\u001b[0m                                Traceback (most recent call last)",
            "\u001b[0;32m<ipython-input-7-a3c0858e24ce>\u001b[0m in \u001b[0;36m<cell line: 18>\u001b[0;34m()\u001b[0m\n\u001b[1;32m     18\u001b[0m \u001b[0;32mfor\u001b[0m \u001b[0mvalue\u001b[0m \u001b[0;32min\u001b[0m \u001b[0munique_ps1_values\u001b[0m\u001b[0;34m:\u001b[0m\u001b[0;34m\u001b[0m\u001b[0;34m\u001b[0m\u001b[0m\n\u001b[1;32m     19\u001b[0m     \u001b[0mcount\u001b[0m \u001b[0;34m=\u001b[0m \u001b[0mlen\u001b[0m\u001b[0;34m(\u001b[0m\u001b[0mdata\u001b[0m\u001b[0;34m[\u001b[0m\u001b[0mdata\u001b[0m\u001b[0;34m[\u001b[0m\u001b[0;34m'PS1'\u001b[0m\u001b[0;34m]\u001b[0m \u001b[0;34m==\u001b[0m \u001b[0mvalue\u001b[0m\u001b[0;34m]\u001b[0m\u001b[0;34m)\u001b[0m\u001b[0;34m\u001b[0m\u001b[0;34m\u001b[0m\u001b[0m\n\u001b[0;32m---> 20\u001b[0;31m     \u001b[0mcpd_ps1\u001b[0m\u001b[0;34m.\u001b[0m\u001b[0mvalues\u001b[0m\u001b[0;34m[\u001b[0m\u001b[0munique_ps1_values\u001b[0m\u001b[0;34m.\u001b[0m\u001b[0mindex\u001b[0m\u001b[0;34m(\u001b[0m\u001b[0mvalue\u001b[0m\u001b[0;34m)\u001b[0m\u001b[0;34m,\u001b[0m \u001b[0;36m0\u001b[0m\u001b[0;34m]\u001b[0m \u001b[0;34m=\u001b[0m \u001b[0mcount\u001b[0m \u001b[0;34m/\u001b[0m \u001b[0mlen\u001b[0m\u001b[0;34m(\u001b[0m\u001b[0mdata\u001b[0m\u001b[0;34m)\u001b[0m\u001b[0;34m\u001b[0m\u001b[0;34m\u001b[0m\u001b[0m\n\u001b[0m\u001b[1;32m     21\u001b[0m \u001b[0;34m\u001b[0m\u001b[0m\n\u001b[1;32m     22\u001b[0m \u001b[0;31m# Calculate the CPD for Pressure Sensor 2 (PS2)\u001b[0m\u001b[0;34m\u001b[0m\u001b[0;34m\u001b[0m\u001b[0m\n",
            "\u001b[0;31mIndexError\u001b[0m: too many indices for array: array is 1-dimensional, but 2 were indexed"
          ]
        }
      ]
    },
    {
      "cell_type": "code",
      "source": [
        "import pandas as pd\n",
        "import numpy as np\n",
        "from pgmpy.models import BayesianNetwork\n",
        "from pgmpy.factors.discrete import TabularCPD\n",
        "from pgmpy.inference import VariableElimination\n",
        "\n",
        "# Load your dataset from a CSV file\n",
        "# Replace 'your_dataset.csv' with the actual path to your dataset file\n",
        "data = pd.read_csv('pipe leak-dataset.csv')\n",
        "\n",
        "# Define the Bayesian network structure\n",
        "model = BayesianNetwork([('PS1', 'Leak'), ('PS2', 'Leak')])\n",
        "\n",
        "# Calculate the CPD for Pressure Sensor 1 (PS1)\n",
        "unique_ps1_values = sorted(data['PS1'].unique())\n",
        "cpd_ps1 = TabularCPD(variable='PS1', variable_card=3, values=[data['PS1'].value_counts(normalize=True).sort_index().tolist()],\n",
        "                     state_names={'PS1': unique_ps1_values})\n",
        "\n",
        "# Calculate the CPD for Pressure Sensor 2 (PS2)\n",
        "unique_ps2_values = sorted(data['PS2'].unique())\n",
        "cpd_ps2 = TabularCPD(variable='PS2', variable_card=3, values=[data['PS2'].value_counts(normalize=True).sort_index().tolist()],\n",
        "                     state_names={'PS2': unique_ps2_values})\n",
        "\n",
        "# Calculate the CPD for Pipe Leak (Leak) given PS1 and PS2\n",
        "cpd_leak = TabularCPD(variable='Leak', variable_card=2,\n",
        "                      values=np.array(data.groupby(['PS1', 'PS2'])['Leak'].value_counts(normalize=True).unstack().fillna(0).values),\n",
        "                      evidence=['PS1', 'PS2'], evidence_card=[3, 3],\n",
        "                      state_names={'Leak': sorted(data['Leak'].unique()),\n",
        "                                   'PS1': sorted(data['PS1'].unique()),\n",
        "                                   'PS2': sorted(data['PS2'].unique())})\n",
        "\n",
        "# Add CPDs to the model\n",
        "model.add_cpds(cpd_ps1, cpd_ps2, cpd_leak)\n",
        "\n",
        "# Verify the model\n",
        "assert model.check_model()\n",
        "\n",
        "# Perform variable elimination for inference\n",
        "inference = VariableElimination(model)\n",
        "\n",
        "# Query the probability of Pipe Leak given specific sensor readings\n",
        "result = inference.query(variables=['Leak'], evidence={'PS1': 'Low', 'PS2': 'Normal'})\n",
        "print(result)\n",
        "\n",
        "# Print the marginal probability of Pipe Leak\n",
        "print(result.values[0])\n"
      ],
      "metadata": {
        "colab": {
          "base_uri": "https://localhost:8080/",
          "height": 367
        },
        "id": "S56XZs-wV-3g",
        "outputId": "1974c901-15b6-46bb-d6d7-6c7c36a71e5f"
      },
      "execution_count": null,
      "outputs": [
        {
          "output_type": "error",
          "ename": "ValueError",
          "evalue": "ignored",
          "traceback": [
            "\u001b[0;31m---------------------------------------------------------------------------\u001b[0m",
            "\u001b[0;31mValueError\u001b[0m                                Traceback (most recent call last)",
            "\u001b[0;32m<ipython-input-8-24b87a9db4cb>\u001b[0m in \u001b[0;36m<cell line: 16>\u001b[0;34m()\u001b[0m\n\u001b[1;32m     14\u001b[0m \u001b[0;31m# Calculate the CPD for Pressure Sensor 1 (PS1)\u001b[0m\u001b[0;34m\u001b[0m\u001b[0;34m\u001b[0m\u001b[0m\n\u001b[1;32m     15\u001b[0m \u001b[0munique_ps1_values\u001b[0m \u001b[0;34m=\u001b[0m \u001b[0msorted\u001b[0m\u001b[0;34m(\u001b[0m\u001b[0mdata\u001b[0m\u001b[0;34m[\u001b[0m\u001b[0;34m'PS1'\u001b[0m\u001b[0;34m]\u001b[0m\u001b[0;34m.\u001b[0m\u001b[0munique\u001b[0m\u001b[0;34m(\u001b[0m\u001b[0;34m)\u001b[0m\u001b[0;34m)\u001b[0m\u001b[0;34m\u001b[0m\u001b[0;34m\u001b[0m\u001b[0m\n\u001b[0;32m---> 16\u001b[0;31m cpd_ps1 = TabularCPD(variable='PS1', variable_card=3, values=[data['PS1'].value_counts(normalize=True).sort_index().tolist()],\n\u001b[0m\u001b[1;32m     17\u001b[0m                      state_names={'PS1': unique_ps1_values})\n\u001b[1;32m     18\u001b[0m \u001b[0;34m\u001b[0m\u001b[0m\n",
            "\u001b[0;32m/usr/local/lib/python3.10/dist-packages/pgmpy/factors/discrete/CPD.py\u001b[0m in \u001b[0;36m__init__\u001b[0;34m(self, variable, variable_card, values, evidence, evidence_card, state_names)\u001b[0m\n\u001b[1;32m    140\u001b[0m             \u001b[0mexpected_cpd_shape\u001b[0m \u001b[0;34m=\u001b[0m \u001b[0;34m(\u001b[0m\u001b[0mvariable_card\u001b[0m\u001b[0;34m,\u001b[0m \u001b[0mnp\u001b[0m\u001b[0;34m.\u001b[0m\u001b[0mprod\u001b[0m\u001b[0;34m(\u001b[0m\u001b[0mevidence_card\u001b[0m\u001b[0;34m)\u001b[0m\u001b[0;34m)\u001b[0m\u001b[0;34m\u001b[0m\u001b[0;34m\u001b[0m\u001b[0m\n\u001b[1;32m    141\u001b[0m         \u001b[0;32mif\u001b[0m \u001b[0mvalues\u001b[0m\u001b[0;34m.\u001b[0m\u001b[0mshape\u001b[0m \u001b[0;34m!=\u001b[0m \u001b[0mexpected_cpd_shape\u001b[0m\u001b[0;34m:\u001b[0m\u001b[0;34m\u001b[0m\u001b[0;34m\u001b[0m\u001b[0m\n\u001b[0;32m--> 142\u001b[0;31m             raise ValueError(\n\u001b[0m\u001b[1;32m    143\u001b[0m                 \u001b[0;34mf\"values must be of shape {expected_cpd_shape}. Got shape: {values.shape}\"\u001b[0m\u001b[0;34m\u001b[0m\u001b[0;34m\u001b[0m\u001b[0m\n\u001b[1;32m    144\u001b[0m             )\n",
            "\u001b[0;31mValueError\u001b[0m: values must be of shape (3, 1). Got shape: (1, 1963)"
          ]
        }
      ]
    },
    {
      "cell_type": "code",
      "source": [
        "from pgmpy.models import BayesianNetwork\n",
        "from pgmpy.factors.discrete import TabularCPD\n",
        "from pgmpy.inference import VariableElimination\n",
        "\n",
        "# Define the Bayesian network structure\n",
        "model = BayesianNetwork([('PS1', 'Leak'), ('PS2', 'Leak')])\n",
        "\n",
        "# Define the Conditional Probability Distributions (CPDs)\n",
        "\n",
        "# CPD for Pressure Sensor 1 (PS1)\n",
        "cpd_ps1 = TabularCPD(variable='PS1', variable_card=3, values=[[0.3], [0.6], [0.1]],\n",
        "                     state_names={'PS1': ['Low', 'Normal', 'High']})\n",
        "\n",
        "# CPD for Pressure Sensor 2 (PS2)\n",
        "cpd_ps2 = TabularCPD(variable='PS2', variable_card=3, values=[[0.4], [0.5], [0.1]],\n",
        "                     state_names={'PS2': ['Low', 'Normal', 'High']})\n",
        "\n",
        "# CPD for Pipe Leak (Leak) given PS1 and PS2\n",
        "# Define the CPD for Pipe Leak (Leak) given PS1 and PS2\n",
        "cpd_leak = TabularCPD(variable='Leak', variable_card=2,\n",
        "                      values=[[0.8, 0.2, 0.1, 0.9, 0.2, 0.8],\n",
        "                              [0.2, 0.8, 0.9, 0.1, 0.8, 0.2]],\n",
        "                      evidence=['PS1', 'PS2'], evidence_card=[3, 3],\n",
        "                      state_names={'Leak': [-1, 1], 'PS1': ['Low', 'Normal', 'High'], 'PS2': ['Low', 'Normal', 'High']})\n",
        "\n",
        "\n",
        "# Add CPDs to the model\n",
        "model.add_cpds(cpd_ps1, cpd_ps2, cpd_leak)\n",
        "\n",
        "# Verify the model\n",
        "assert model.check_model()\n",
        "\n",
        "# Perform variable elimination for inference\n",
        "inference = VariableElimination(model)\n",
        "\n",
        "# Query the probability of Pipe Leak given sensor readings\n",
        "result = inference.query(variables=['Leak'], evidence={'PS1': 'Low', 'PS2': 'Normal'})\n",
        "print(result)\n",
        "\n",
        "# Print the marginal probability of Pipe Leak\n",
        "print(result.values[0])\n"
      ],
      "metadata": {
        "colab": {
          "base_uri": "https://localhost:8080/",
          "height": 367
        },
        "id": "_UR9-ZqxWOWC",
        "outputId": "b57c4c6c-482e-44e7-ae41-00cf7b09f139"
      },
      "execution_count": null,
      "outputs": [
        {
          "output_type": "error",
          "ename": "ValueError",
          "evalue": "ignored",
          "traceback": [
            "\u001b[0;31m---------------------------------------------------------------------------\u001b[0m",
            "\u001b[0;31mValueError\u001b[0m                                Traceback (most recent call last)",
            "\u001b[0;32m<ipython-input-12-f8a7fd85285e>\u001b[0m in \u001b[0;36m<cell line: 20>\u001b[0;34m()\u001b[0m\n\u001b[1;32m     18\u001b[0m \u001b[0;31m# CPD for Pipe Leak (Leak) given PS1 and PS2\u001b[0m\u001b[0;34m\u001b[0m\u001b[0;34m\u001b[0m\u001b[0m\n\u001b[1;32m     19\u001b[0m \u001b[0;31m# Define the CPD for Pipe Leak (Leak) given PS1 and PS2\u001b[0m\u001b[0;34m\u001b[0m\u001b[0;34m\u001b[0m\u001b[0m\n\u001b[0;32m---> 20\u001b[0;31m cpd_leak = TabularCPD(variable='Leak', variable_card=2,\n\u001b[0m\u001b[1;32m     21\u001b[0m                       values=[[0.8, 0.2, 0.1, 0.9, 0.2, 0.8],\n\u001b[1;32m     22\u001b[0m                               [0.2, 0.8, 0.9, 0.1, 0.8, 0.2]],\n",
            "\u001b[0;32m/usr/local/lib/python3.10/dist-packages/pgmpy/factors/discrete/CPD.py\u001b[0m in \u001b[0;36m__init__\u001b[0;34m(self, variable, variable_card, values, evidence, evidence_card, state_names)\u001b[0m\n\u001b[1;32m    140\u001b[0m             \u001b[0mexpected_cpd_shape\u001b[0m \u001b[0;34m=\u001b[0m \u001b[0;34m(\u001b[0m\u001b[0mvariable_card\u001b[0m\u001b[0;34m,\u001b[0m \u001b[0mnp\u001b[0m\u001b[0;34m.\u001b[0m\u001b[0mprod\u001b[0m\u001b[0;34m(\u001b[0m\u001b[0mevidence_card\u001b[0m\u001b[0;34m)\u001b[0m\u001b[0;34m)\u001b[0m\u001b[0;34m\u001b[0m\u001b[0;34m\u001b[0m\u001b[0m\n\u001b[1;32m    141\u001b[0m         \u001b[0;32mif\u001b[0m \u001b[0mvalues\u001b[0m\u001b[0;34m.\u001b[0m\u001b[0mshape\u001b[0m \u001b[0;34m!=\u001b[0m \u001b[0mexpected_cpd_shape\u001b[0m\u001b[0;34m:\u001b[0m\u001b[0;34m\u001b[0m\u001b[0;34m\u001b[0m\u001b[0m\n\u001b[0;32m--> 142\u001b[0;31m             raise ValueError(\n\u001b[0m\u001b[1;32m    143\u001b[0m                 \u001b[0;34mf\"values must be of shape {expected_cpd_shape}. Got shape: {values.shape}\"\u001b[0m\u001b[0;34m\u001b[0m\u001b[0;34m\u001b[0m\u001b[0m\n\u001b[1;32m    144\u001b[0m             )\n",
            "\u001b[0;31mValueError\u001b[0m: values must be of shape (2, 9). Got shape: (2, 6)"
          ]
        }
      ]
    },
    {
      "cell_type": "code",
      "source": [
        "import pandas as pd\n",
        "import numpy as np\n",
        "from pgmpy.models import BayesianNetwork\n",
        "from pgmpy.factors.discrete import TabularCPD\n",
        "from pgmpy.inference import VariableElimination\n",
        "\n",
        "# Load your dataset from a CSV file\n",
        "# Replace 'your_dataset.csv' with the actual path to your dataset file\n",
        "data = pd.read_csv('pipe leak-dataset.csv')\n",
        "\n",
        "# Define the Bayesian network structure\n",
        "model = BayesianNetwork([('PS1', 'Leak'), ('PS2', 'Leak')])\n",
        "\n",
        "# Calculate the CPD for Pressure Sensor 1 (PS1)\n",
        "unique_ps1_values = sorted(data['PS1'].unique())\n",
        "cpd_ps1 = TabularCPD(variable='PS1', variable_card=3, values=[data['PS1'].value_counts(normalize=True).sort_index().tolist()],\n",
        "                     state_names={'PS1': unique_ps1_values})\n",
        "\n",
        "# Calculate the CPD for Pressure Sensor 2 (PS2)\n",
        "unique_ps2_values = sorted(data['PS2'].unique())\n",
        "cpd_ps2 = TabularCPD(variable='PS2', variable_card=3, values=[data['PS2'].value_counts(normalize=True).sort_index().tolist()],\n",
        "                     state_names={'PS2': unique_ps2_values})\n",
        "\n",
        "# Calculate the CPD for Pipe Leak (Leak) given PS1 and PS2\n",
        "leak_values = np.array(data.groupby(['PS1', 'PS2'])['Leak'].value_counts(normalize=True).unstack().fillna(0).values)\n",
        "# Create a CPD with zeros for missing combinations\n",
        "missing_combinations = [(i, j) for i in range(3) for j in range(3) if (i, j) not in leak_values]\n",
        "for i, j in missing_combinations:\n",
        "    leak_values = np.insert(leak_values, j, 0, axis=1)\n",
        "\n",
        "cpd_leak = TabularCPD(variable='Leak', variable_card=2,\n",
        "                      values=leak_values,\n",
        "                      evidence=['PS1', 'PS2'], evidence_card=[3, 3],\n",
        "                      state_names={'Leak': sorted(data['Leak'].unique()),\n",
        "                                   'PS1': sorted(data['PS1'].unique()),\n",
        "                                   'PS2': sorted(data['PS2'].unique())})\n",
        "\n",
        "# Add CPDs to the model\n",
        "model.add_cpds(cpd_ps1, cpd_ps2, cpd_leak)\n",
        "\n",
        "# Verify the model\n",
        "assert model.check_model()\n",
        "\n",
        "# Perform variable elimination for inference\n",
        "inference = VariableElimination(model)\n",
        "\n",
        "# Query the probability of Pipe Leak given specific sensor readings\n",
        "result = inference.query(variables=['Leak'], evidence={'PS1': 'Low', 'PS2': 'Normal'})\n",
        "print(result)\n",
        "\n",
        "# Print the marginal probability of Pipe Leak\n",
        "print(result.values[0])\n"
      ],
      "metadata": {
        "colab": {
          "base_uri": "https://localhost:8080/",
          "height": 367
        },
        "id": "ie9UvWqJWZw_",
        "outputId": "5a5c1d92-4b29-4239-9092-be154a3d6ec0"
      },
      "execution_count": null,
      "outputs": [
        {
          "output_type": "error",
          "ename": "ValueError",
          "evalue": "ignored",
          "traceback": [
            "\u001b[0;31m---------------------------------------------------------------------------\u001b[0m",
            "\u001b[0;31mValueError\u001b[0m                                Traceback (most recent call last)",
            "\u001b[0;32m<ipython-input-10-d74034ab9058>\u001b[0m in \u001b[0;36m<cell line: 16>\u001b[0;34m()\u001b[0m\n\u001b[1;32m     14\u001b[0m \u001b[0;31m# Calculate the CPD for Pressure Sensor 1 (PS1)\u001b[0m\u001b[0;34m\u001b[0m\u001b[0;34m\u001b[0m\u001b[0m\n\u001b[1;32m     15\u001b[0m \u001b[0munique_ps1_values\u001b[0m \u001b[0;34m=\u001b[0m \u001b[0msorted\u001b[0m\u001b[0;34m(\u001b[0m\u001b[0mdata\u001b[0m\u001b[0;34m[\u001b[0m\u001b[0;34m'PS1'\u001b[0m\u001b[0;34m]\u001b[0m\u001b[0;34m.\u001b[0m\u001b[0munique\u001b[0m\u001b[0;34m(\u001b[0m\u001b[0;34m)\u001b[0m\u001b[0;34m)\u001b[0m\u001b[0;34m\u001b[0m\u001b[0;34m\u001b[0m\u001b[0m\n\u001b[0;32m---> 16\u001b[0;31m cpd_ps1 = TabularCPD(variable='PS1', variable_card=3, values=[data['PS1'].value_counts(normalize=True).sort_index().tolist()],\n\u001b[0m\u001b[1;32m     17\u001b[0m                      state_names={'PS1': unique_ps1_values})\n\u001b[1;32m     18\u001b[0m \u001b[0;34m\u001b[0m\u001b[0m\n",
            "\u001b[0;32m/usr/local/lib/python3.10/dist-packages/pgmpy/factors/discrete/CPD.py\u001b[0m in \u001b[0;36m__init__\u001b[0;34m(self, variable, variable_card, values, evidence, evidence_card, state_names)\u001b[0m\n\u001b[1;32m    140\u001b[0m             \u001b[0mexpected_cpd_shape\u001b[0m \u001b[0;34m=\u001b[0m \u001b[0;34m(\u001b[0m\u001b[0mvariable_card\u001b[0m\u001b[0;34m,\u001b[0m \u001b[0mnp\u001b[0m\u001b[0;34m.\u001b[0m\u001b[0mprod\u001b[0m\u001b[0;34m(\u001b[0m\u001b[0mevidence_card\u001b[0m\u001b[0;34m)\u001b[0m\u001b[0;34m)\u001b[0m\u001b[0;34m\u001b[0m\u001b[0;34m\u001b[0m\u001b[0m\n\u001b[1;32m    141\u001b[0m         \u001b[0;32mif\u001b[0m \u001b[0mvalues\u001b[0m\u001b[0;34m.\u001b[0m\u001b[0mshape\u001b[0m \u001b[0;34m!=\u001b[0m \u001b[0mexpected_cpd_shape\u001b[0m\u001b[0;34m:\u001b[0m\u001b[0;34m\u001b[0m\u001b[0;34m\u001b[0m\u001b[0m\n\u001b[0;32m--> 142\u001b[0;31m             raise ValueError(\n\u001b[0m\u001b[1;32m    143\u001b[0m                 \u001b[0;34mf\"values must be of shape {expected_cpd_shape}. Got shape: {values.shape}\"\u001b[0m\u001b[0;34m\u001b[0m\u001b[0;34m\u001b[0m\u001b[0m\n\u001b[1;32m    144\u001b[0m             )\n",
            "\u001b[0;31mValueError\u001b[0m: values must be of shape (3, 1). Got shape: (1, 1963)"
          ]
        }
      ]
    },
    {
      "cell_type": "code",
      "source": [
        "import pandas as pd\n",
        "import numpy as np\n",
        "from pgmpy.models import BayesianNetwork\n",
        "from pgmpy.factors.discrete import TabularCPD\n",
        "from pgmpy.inference import VariableElimination\n",
        "\n",
        "# Load your dataset from a CSV file\n",
        "# Replace 'your_dataset.csv' with the actual path to your dataset file\n",
        "data = pd.read_csv('pipe leak-dataset.csv')\n",
        "\n",
        "# Define the Bayesian network structure\n",
        "model = BayesianNetwork([('PS1', 'Leak'), ('PS2', 'Leak')])\n",
        "\n",
        "# Define the states and cardinalities\n",
        "ps1_states = ['Low', 'Normal', 'High']\n",
        "ps2_states = ['Low', 'Normal', 'High']\n",
        "leak_states = [-1, 1]\n",
        "\n",
        "# Calculate the CPD for Pressure Sensor 1 (PS1)\n",
        "cpd_ps1 = TabularCPD(variable='PS1', variable_card=3, values=[data['PS1'].value_counts(normalize=True).sort_index().values],\n",
        "                     state_names={'PS1': ps1_states})\n",
        "\n",
        "# Calculate the CPD for Pressure Sensor 2 (PS2)\n",
        "cpd_ps2 = TabularCPD(variable='PS2', variable_card=3, values=[data['PS2'].value_counts(normalize=True).sort_index().values],\n",
        "                     state_names={'PS2': ps2_states})\n",
        "\n",
        "# Calculate the CPD for Pipe Leak (Leak) given PS1 and PS2\n",
        "cpd_leak = TabularCPD(variable='Leak', variable_card=2,\n",
        "                      values=[data.groupby(['PS1', 'PS2'])['Leak'].value_counts(normalize=True).sort_index().values],\n",
        "                      evidence=['PS1', 'PS2'], evidence_card=[3, 3],\n",
        "                      state_names={'Leak': leak_states, 'PS1': ps1_states, 'PS2': ps2_states})\n",
        "\n",
        "# Add CPDs to the model\n",
        "model.add_cpds(cpd_ps1, cpd_ps2, cpd_leak)\n",
        "\n",
        "# Verify the model\n",
        "assert model.check_model()\n",
        "\n",
        "# Perform variable elimination for inference\n",
        "inference = VariableElimination(model)\n",
        "\n",
        "# Query the probability of Pipe Leak given specific sensor readings\n",
        "result = inference.query(variables=['Leak'], evidence={'PS1': 'Low', 'PS2': 'Normal'})\n",
        "print(result)\n",
        "\n",
        "# Print the marginal probability of Pipe Leak\n",
        "print(result.values[0])\n"
      ],
      "metadata": {
        "colab": {
          "base_uri": "https://localhost:8080/",
          "height": 367
        },
        "id": "t0y6UiLWWqar",
        "outputId": "e6cb5af8-f15c-4da5-c229-b67c3d35ea7d"
      },
      "execution_count": null,
      "outputs": [
        {
          "output_type": "error",
          "ename": "ValueError",
          "evalue": "ignored",
          "traceback": [
            "\u001b[0;31m---------------------------------------------------------------------------\u001b[0m",
            "\u001b[0;31mValueError\u001b[0m                                Traceback (most recent call last)",
            "\u001b[0;32m<ipython-input-11-77e7688b60ee>\u001b[0m in \u001b[0;36m<cell line: 20>\u001b[0;34m()\u001b[0m\n\u001b[1;32m     18\u001b[0m \u001b[0;34m\u001b[0m\u001b[0m\n\u001b[1;32m     19\u001b[0m \u001b[0;31m# Calculate the CPD for Pressure Sensor 1 (PS1)\u001b[0m\u001b[0;34m\u001b[0m\u001b[0;34m\u001b[0m\u001b[0m\n\u001b[0;32m---> 20\u001b[0;31m cpd_ps1 = TabularCPD(variable='PS1', variable_card=3, values=[data['PS1'].value_counts(normalize=True).sort_index().values],\n\u001b[0m\u001b[1;32m     21\u001b[0m                      state_names={'PS1': ps1_states})\n\u001b[1;32m     22\u001b[0m \u001b[0;34m\u001b[0m\u001b[0m\n",
            "\u001b[0;32m/usr/local/lib/python3.10/dist-packages/pgmpy/factors/discrete/CPD.py\u001b[0m in \u001b[0;36m__init__\u001b[0;34m(self, variable, variable_card, values, evidence, evidence_card, state_names)\u001b[0m\n\u001b[1;32m    140\u001b[0m             \u001b[0mexpected_cpd_shape\u001b[0m \u001b[0;34m=\u001b[0m \u001b[0;34m(\u001b[0m\u001b[0mvariable_card\u001b[0m\u001b[0;34m,\u001b[0m \u001b[0mnp\u001b[0m\u001b[0;34m.\u001b[0m\u001b[0mprod\u001b[0m\u001b[0;34m(\u001b[0m\u001b[0mevidence_card\u001b[0m\u001b[0;34m)\u001b[0m\u001b[0;34m)\u001b[0m\u001b[0;34m\u001b[0m\u001b[0;34m\u001b[0m\u001b[0m\n\u001b[1;32m    141\u001b[0m         \u001b[0;32mif\u001b[0m \u001b[0mvalues\u001b[0m\u001b[0;34m.\u001b[0m\u001b[0mshape\u001b[0m \u001b[0;34m!=\u001b[0m \u001b[0mexpected_cpd_shape\u001b[0m\u001b[0;34m:\u001b[0m\u001b[0;34m\u001b[0m\u001b[0;34m\u001b[0m\u001b[0m\n\u001b[0;32m--> 142\u001b[0;31m             raise ValueError(\n\u001b[0m\u001b[1;32m    143\u001b[0m                 \u001b[0;34mf\"values must be of shape {expected_cpd_shape}. Got shape: {values.shape}\"\u001b[0m\u001b[0;34m\u001b[0m\u001b[0;34m\u001b[0m\u001b[0m\n\u001b[1;32m    144\u001b[0m             )\n",
            "\u001b[0;31mValueError\u001b[0m: values must be of shape (3, 1). Got shape: (1, 1963)"
          ]
        }
      ]
    },
    {
      "cell_type": "code",
      "source": [
        "from pgmpy.models import BayesianNetwork\n",
        "from pgmpy.factors.discrete import TabularCPD\n",
        "from pgmpy.inference import VariableElimination\n",
        "\n",
        "# Define the Bayesian network structure\n",
        "model = BayesianNetwork([('PS1', 'Leak'), ('PS2', 'Leak')])\n",
        "\n",
        "# Define the Conditional Probability Distributions (CPDs)\n",
        "\n",
        "# CPD for Pressure Sensor 1 (PS1)\n",
        "cpd_ps1 = TabularCPD(variable='PS1', variable_card=3, values=[[0.3], [0.6], [0.1]],\n",
        "                     state_names={'PS1': ['Low', 'Normal', 'High']})\n",
        "\n",
        "# CPD for Pressure Sensor 2 (PS2)\n",
        "cpd_ps2 = TabularCPD(variable='PS2', variable_card=3, values=[[0.4], [0.5], [0.1]],\n",
        "                     state_names={'PS2': ['Low', 'Normal', 'High']})\n",
        "\n",
        "# CPD for Pipe Leak (Leak) given PS1 and PS2\n",
        "cpd_leak = TabularCPD(variable='Leak', variable_card=2,\n",
        "                      values=[[0.8, 0.2, 0.1, 0.9, 0.2, 0.8, 0.1, 0.9, 0.2],\n",
        "                              [0.2, 0.8, 0.9, 0.1, 0.8, 0.2, 0.9, 0.1, 0.8]],\n",
        "                      evidence=['PS1', 'PS2'], evidence_card=[3, 3],\n",
        "                      state_names={'Leak': [-1, 1], 'PS1': ['Low', 'Normal', 'High'], 'PS2': ['Low', 'Normal', 'High']})\n",
        "\n",
        "# Add CPDs to the model\n",
        "model.add_cpds(cpd_ps1, cpd_ps2, cpd_leak)\n",
        "\n",
        "# Verify the model\n",
        "assert model.check_model()\n",
        "\n",
        "# Perform variable elimination for inference\n",
        "inference = VariableElimination(model)\n",
        "\n",
        "# Query the probability of Pipe Leak given sensor readings\n",
        "result = inference.query(variables=['Leak'], evidence={'PS1': 'Low', 'PS2': 'Normal'})\n",
        "print(result)\n",
        "\n",
        "# Print the marginal probability of Pipe Leak\n",
        "print(result.values[0])\n"
      ],
      "metadata": {
        "colab": {
          "base_uri": "https://localhost:8080/"
        },
        "id": "HObOD5zdXtnT",
        "outputId": "5529424d-fa45-412f-8a8e-b455932e9280"
      },
      "execution_count": null,
      "outputs": [
        {
          "output_type": "stream",
          "name": "stdout",
          "text": [
            "+----------+-------------+\n",
            "| Leak     |   phi(Leak) |\n",
            "+==========+=============+\n",
            "| Leak(-1) |      0.2000 |\n",
            "+----------+-------------+\n",
            "| Leak(1)  |      0.8000 |\n",
            "+----------+-------------+\n",
            "0.2\n"
          ]
        }
      ]
    },
    {
      "cell_type": "code",
      "source": [
        "import networkx as nx\n",
        "import matplotlib.pyplot as plt\n",
        "\n",
        "# Create a DiGraph (Directed Graph) to represent the Bayesian network\n",
        "G = nx.DiGraph()\n",
        "\n",
        "# Add nodes to the graph\n",
        "G.add_node('PS1')\n",
        "G.add_node('PS2')\n",
        "G.add_node('Leak')\n",
        "\n",
        "# Add edges to represent the conditional dependencies\n",
        "G.add_edge('PS1', 'Leak')\n",
        "G.add_edge('PS2', 'Leak')\n",
        "\n",
        "# Define the layout for visualizing the graph\n",
        "pos = {'PS1': (0, 1), 'PS2': (1, 1), 'Leak': (0.5, 0)}\n",
        "\n",
        "# Draw the Bayesian network\n",
        "nx.draw(G, pos, with_labels=True, node_size=5000, node_color='lightblue', font_size=12, font_color='black', font_weight='bold')\n",
        "labels = {'PS1': 'Pressure Sensor 1 (PS1)', 'PS2': 'Pressure Sensor 2 (PS2)', 'Leak': 'Pipe Leak (Leak)'}\n",
        "nx.draw_networkx_labels(G, pos, labels=labels, font_size=12, font_color='black', font_weight='bold')\n",
        "\n",
        "plt.title('Bayesian Network Visualization')\n",
        "plt.axis('off')\n",
        "plt.show()\n"
      ],
      "metadata": {
        "id": "ZP5ftPiuX__5",
        "outputId": "1acc2eff-eae7-40f9-e4be-f1d46554d7cb",
        "colab": {
          "base_uri": "https://localhost:8080/",
          "height": 539
        }
      },
      "execution_count": null,
      "outputs": [
        {
          "output_type": "display_data",
          "data": {
            "text/plain": [
              "<Figure size 640x480 with 1 Axes>"
            ],
            "image/png": "[encoded data removed]"
          },
          "metadata": {}
        }
      ]
    }
  ]
}